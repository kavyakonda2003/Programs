{
  "nbformat": 4,
  "nbformat_minor": 0,
  "metadata": {
    "colab": {
      "provenance": [],
      "authorship_tag": "ABX9TyPkI+/lZ5helI9XDC+sbX99",
      "include_colab_link": true
    },
    "kernelspec": {
      "name": "python3",
      "display_name": "Python 3"
    },
    "language_info": {
      "name": "python"
    }
  },
  "cells": [
    {
      "cell_type": "markdown",
      "metadata": {
        "id": "view-in-github",
        "colab_type": "text"
      },
      "source": [
        "<a href=\"https://colab.research.google.com/github/kavyakonda2003/Programs/blob/main/Untitled1.ipynb\" target=\"_parent\"><img src=\"https://colab.research.google.com/assets/colab-badge.svg\" alt=\"Open In Colab\"/></a>"
      ]
    },
    {
      "cell_type": "code",
      "execution_count": 1,
      "metadata": {
        "colab": {
          "base_uri": "https://localhost:8080/"
        },
        "id": "1WMIC7q-5gHv",
        "outputId": "d0a5fbd2-55c6-4329-c846-efe5523a88a2"
      },
      "outputs": [
        {
          "output_type": "stream",
          "name": "stdout",
          "text": [
            "[[2]\n",
            " [6]]\n"
          ]
        }
      ],
      "source": [
        " import numpy as np\n",
        "data=[[1,2,3,4],[5,6,7,8]];\n",
        "arr1=np.array(data);\n",
        "print(arr1[0:2,1:2]);"
      ]
    },
    {
      "cell_type": "code",
      "source": [
        "import numpy as np\n",
        "data=([[[1, 2, 3], [5, 6, 7], [9, 10, 11]],\n",
        "               [[13, 14, 15], [17, 18, 19], [21, 22, 23]]]);\n",
        "arr1=np.array(data);\n",
        "print(arr1[0:,0:1,1:]);"
      ],
      "metadata": {
        "colab": {
          "base_uri": "https://localhost:8080/"
        },
        "id": "167bFzkd6GO2",
        "outputId": "1b8f187a-6443-4146-cffa-d46c6139d1e5"
      },
      "execution_count": 2,
      "outputs": [
        {
          "output_type": "stream",
          "name": "stdout",
          "text": [
            "[[[ 2  3]]\n",
            "\n",
            " [[14 15]]]\n"
          ]
        }
      ]
    },
    {
      "cell_type": "code",
      "source": [
        "import numpy as np\n",
        "data=[[1,2,3,4],[5,6,7,8]];\n",
        "arr1=np.array(data);\n",
        "arr2=arr1.T;\n",
        "print(arr2);\n",
        "n=int(input(\"enter a number:\"));\n",
        "print(arr2[n])"
      ],
      "metadata": {
        "colab": {
          "base_uri": "https://localhost:8080/"
        },
        "id": "WjwPqMYZ6PT3",
        "outputId": "3b1ed7c5-66f8-40da-9ae9-3527719e06e8"
      },
      "execution_count": 3,
      "outputs": [
        {
          "output_type": "stream",
          "name": "stdout",
          "text": [
            "[[1 5]\n",
            " [2 6]\n",
            " [3 7]\n",
            " [4 8]]\n",
            "enter a number:3\n",
            "[4 8]\n"
          ]
        }
      ]
    },
    {
      "cell_type": "code",
      "source": [
        "import numpy as np\n",
        "data= ([[[1, 2, 3, 4], [5, 6, 7, 8], [9, 10, 11, 12]],\n",
        "               [[13, 14, 15, 16], [17, 18, 19, 20], [21, 22, 23, 24]]])\n",
        "arr = np.array(data);\n",
        "arr2=np.transpose(arr,(1,0,2));\n",
        "print(arr[1:2,0:2,0:2]);"
      ],
      "metadata": {
        "id": "PBDZ_02R6WEM"
      },
      "execution_count": null,
      "outputs": []
    }
  ]
}